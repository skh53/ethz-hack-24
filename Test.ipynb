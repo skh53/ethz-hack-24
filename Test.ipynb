{
 "cells": [
  {
   "cell_type": "code",
   "execution_count": 13,
   "id": "0ac21a5b-cf1f-4299-b1e9-7b1879b82815",
   "metadata": {},
   "outputs": [],
   "source": [
    "from pytket import Circuit\n",
    "from pytket.extensions.nexus import Nexus, NexusBackend\n",
    "from pytket.extensions.nexus import AerConfig\n",
    "configuration = AerConfig()\n",
    "nexus = Nexus()"
   ]
  },
  {
   "cell_type": "code",
   "execution_count": 14,
   "id": "410ef400-0dbf-48b1-8eac-d6e7703ba140",
   "metadata": {},
   "outputs": [
    {
     "data": {
      "text/plain": [
       "[nexus_dataclasses.backend_config.QuantinuumConfig,\n",
       " nexus_dataclasses.backend_config.IBMQConfig,\n",
       " nexus_dataclasses.backend_config.IBMQEmulatorConfig,\n",
       " nexus_dataclasses.backend_config.AerConfig,\n",
       " nexus_dataclasses.backend_config.AerStateConfig,\n",
       " nexus_dataclasses.backend_config.AerUnitaryConfig,\n",
       " nexus_dataclasses.backend_config.BraketConfig,\n",
       " nexus_dataclasses.backend_config.QulacsConfig,\n",
       " nexus_dataclasses.backend_config.ProjectQConfig]"
      ]
     },
     "execution_count": 14,
     "metadata": {},
     "output_type": "execute_result"
    }
   ],
   "source": [
    "NexusBackend.supported_configs()"
   ]
  },
  {
   "cell_type": "code",
   "execution_count": 17,
   "id": "0529f844-d429-4921-b3d7-e95461fec667",
   "metadata": {},
   "outputs": [
    {
     "name": "stdout",
     "output_type": "stream",
     "text": [
      "NexusTeam(name=Quantum Queens, description=ETH24)\n"
     ]
    }
   ],
   "source": [
    "team = nexus.get_team_by_name(\"Quantum Queens\")\n",
    "\n",
    "print(team)"
   ]
  },
  {
   "cell_type": "code",
   "execution_count": 20,
   "id": "2fe82ee9-a472-40c1-b630-4658ec46fcc2",
   "metadata": {},
   "outputs": [
    {
     "name": "stdout",
     "output_type": "stream",
     "text": [
      "\n",
      "New project created: Testing testing\n"
     ]
    }
   ],
   "source": [
    "new_project = nexus.new_project(\"Testing testing\",{\"Quantum Queens\": None})"
   ]
  },
  {
   "cell_type": "code",
   "execution_count": 21,
   "id": "42a0a1b6-a26f-455f-942f-273290c898f5",
   "metadata": {},
   "outputs": [],
   "source": [
    "circ = Circuit(2).H(0).CX(0, 1)"
   ]
  },
  {
   "cell_type": "code",
   "execution_count": 22,
   "id": "6f17ea78-5829-4dcd-a3ac-030a91cace31",
   "metadata": {},
   "outputs": [],
   "source": [
    "from pytket.circuit.display import render_circuit_jupyter as draw"
   ]
  },
  {
   "cell_type": "code",
   "execution_count": 23,
   "id": "9160943e-2d8f-4650-a654-94f1abf30b0c",
   "metadata": {},
   "outputs": [
    {
     "data": {
      "text/html": [
       "\n",
       "\n",
       "\n",
       "\n",
       "\n",
       "\n",
       "<div style=\"resize: vertical; overflow: auto; height: 400px; display: block\">\n",
       "    <iframe srcdoc=\"\n",
       "&lt;!DOCTYPE html&gt;\n",
       "&lt;html lang=&#34;en&#34;&gt;\n",
       "&lt;head&gt;\n",
       "    &lt;meta charset=&#34;UTF-8&#34;&gt;\n",
       "    &lt;!-- Download Vue 3--&gt;\n",
       "&lt;script type=&#34;application/javascript&#34; src=&#34;https://cdn.jsdelivr.net/npm/vue@3&#34;&gt;&lt;/script&gt;\n",
       "&lt;!-- Download Circuit Renderer with styles --&gt;\n",
       "&lt;script type=&#34;application/javascript&#34; src=&#34;https://unpkg.com/pytket-circuit-renderer@0.7/dist/pytket-circuit-renderer.umd.js&#34;&gt;&lt;/script&gt;\n",
       "&lt;link rel=&#34;stylesheet&#34; href=&#34;https://unpkg.com/pytket-circuit-renderer@0.7/dist/pytket-circuit-renderer.css&#34;&gt;\n",
       "&lt;/head&gt;\n",
       "&lt;body&gt;\n",
       "\n",
       "\n",
       "\n",
       "    &lt;div id=&#34;circuit-display-vue-container-5ca78229-1573-4669-adc4-ba7064048e3e&#34; class=&#34;pytket-circuit-display-container&#34;&gt;\n",
       "        &lt;div style=&#34;display: none&#34;&gt;\n",
       "            &lt;div id=&#34;circuit-json-to-display&#34;&gt;{&#34;bits&#34;: [], &#34;commands&#34;: [{&#34;args&#34;: [[&#34;q&#34;, [0]]], &#34;op&#34;: {&#34;type&#34;: &#34;H&#34;}}, {&#34;args&#34;: [[&#34;q&#34;, [0]], [&#34;q&#34;, [1]]], &#34;op&#34;: {&#34;type&#34;: &#34;CX&#34;}}], &#34;created_qubits&#34;: [], &#34;discarded_qubits&#34;: [], &#34;implicit_permutation&#34;: [[[&#34;q&#34;, [0]], [&#34;q&#34;, [0]]], [[&#34;q&#34;, [1]], [&#34;q&#34;, [1]]]], &#34;phase&#34;: &#34;0.0&#34;, &#34;qubits&#34;: [[&#34;q&#34;, [0]], [&#34;q&#34;, [1]]]}&lt;/div&gt;\n",
       "        &lt;/div&gt;\n",
       "        &lt;circuit-display-container\n",
       "                :circuit-element-str=&#34;&#39;#circuit-json-to-display&#39;&#34;\n",
       "                :init-render-options=&#34;initRenderOptions&#34;\n",
       "        &gt;&lt;/circuit-display-container&gt;\n",
       "    &lt;/div&gt;\n",
       "    &lt;script type=&#34;application/javascript&#34;&gt;\n",
       "      const circuitRendererUid = &#34;5ca78229-1573-4669-adc4-ba7064048e3e&#34;;\n",
       "      const displayOptions = JSON.parse(&#39;{}&#39;);\n",
       "\n",
       "      // Script to initialise the circuit renderer app\n",
       "\n",
       "const { createApp } = Vue;\n",
       "const circuitDisplayContainer = window[&#34;pytket-circuit-renderer&#34;].default;\n",
       "// Init variables to be shared between circuit display instances\n",
       "if (typeof window.pytketCircuitDisplays === &#34;undefined&#34;) {\n",
       "    window.pytketCircuitDisplays = {};\n",
       "}\n",
       "// Create the root Vue component\n",
       "const app = createApp({\n",
       "    delimiters: [&#39;[[#&#39;, &#39;#]]&#39;],\n",
       "    components: { circuitDisplayContainer },\n",
       "    data () {\n",
       "      return {\n",
       "        initRenderOptions: displayOptions,\n",
       "      }\n",
       "    }\n",
       "})\n",
       "app.config.unwrapInjectedRef = true;\n",
       "app.mount(&#34;#circuit-display-vue-container-&#34;+circuitRendererUid);\n",
       "window.pytketCircuitDisplays[circuitRendererUid] = app;\n",
       "    &lt;/script&gt;\n",
       "\n",
       "\n",
       "\n",
       "&lt;/body&gt;\n",
       "&lt;/html&gt;\n",
       "\"\n",
       "            width=\"100%\" height=\"100%\"\n",
       "            style=\"border: none; outline: none; overflow: auto\"></iframe>\n",
       "</div>\n",
       "\n"
      ],
      "text/plain": [
       "<IPython.core.display.HTML object>"
      ]
     },
     "metadata": {},
     "output_type": "display_data"
    }
   ],
   "source": [
    "draw(circ)"
   ]
  },
  {
   "cell_type": "code",
   "execution_count": 24,
   "id": "8c35c205-3016-45ad-ba46-8f9612dd7083",
   "metadata": {},
   "outputs": [
    {
     "data": {
      "text/plain": [
       "[H q[0]; CX q[0], q[1]; Measure q[0] --> c[0]; Measure q[1] --> c[1]; ]"
      ]
     },
     "execution_count": 24,
     "metadata": {},
     "output_type": "execute_result"
    }
   ],
   "source": [
    "circuit = Circuit(2).H(0).CX(0, 1)\n",
    "circuit.measure_all()"
   ]
  },
  {
   "cell_type": "code",
   "execution_count": 26,
   "id": "1515a68b-cf23-40af-8271-a98b962a2926",
   "metadata": {},
   "outputs": [
    {
     "name": "stdout",
     "output_type": "stream",
     "text": [
      "\n",
      "Started using project with name: Testing testing\n"
     ]
    },
    {
     "ename": "ResourceCreationFailed",
     "evalue": "Failed to create resource with status code: 409, message: Failed to autogenerate a job name {AUTOGEN_NAME_RETRIES} times. Please try the operation again.",
     "output_type": "error",
     "traceback": [
      "\u001b[0;31m---------------------------------------------------------------------------\u001b[0m",
      "\u001b[0;31mResourceCreationFailed\u001b[0m                    Traceback (most recent call last)",
      "File \u001b[0;32m/opt/conda/lib/python3.10/site-packages/pytket/extensions/nexus/backends.py:401\u001b[0m, in \u001b[0;36mNexusBackend._compile_circuits_remotely\u001b[0;34m(self, circuits, optimisation_level, notes, timeout)\u001b[0m\n\u001b[1;32m    400\u001b[0m \u001b[38;5;28;01mtry\u001b[39;00m:\n\u001b[0;32m--> 401\u001b[0m     compile_job \u001b[38;5;241m=\u001b[39m \u001b[38;5;28;43mself\u001b[39;49m\u001b[38;5;241;43m.\u001b[39;49m\u001b[43mproject\u001b[49m\u001b[38;5;241;43m.\u001b[39;49m\u001b[43msubmit_compile_job\u001b[49m\u001b[43m(\u001b[49m\n\u001b[1;32m    402\u001b[0m \u001b[43m        \u001b[49m\u001b[43mbackend_config\u001b[49m\u001b[38;5;241;43m=\u001b[39;49m\u001b[38;5;28;43mself\u001b[39;49m\u001b[38;5;241;43m.\u001b[39;49m\u001b[43mbackend_config\u001b[49m\u001b[43m,\u001b[49m\n\u001b[1;32m    403\u001b[0m \u001b[43m        \u001b[49m\u001b[43mname\u001b[49m\u001b[38;5;241;43m=\u001b[39;49m\u001b[38;5;124;43mf\u001b[39;49m\u001b[38;5;124;43m\"\u001b[39;49m\u001b[38;5;124;43mcompile-job-\u001b[39;49m\u001b[38;5;132;43;01m{\u001b[39;49;00m\u001b[43mgenerate_random_resource_name\u001b[49m\u001b[43m(\u001b[49m\u001b[43m)\u001b[49m\u001b[38;5;132;43;01m}\u001b[39;49;00m\u001b[38;5;124;43m\"\u001b[39;49m\u001b[43m,\u001b[49m\n\u001b[1;32m    404\u001b[0m \u001b[43m        \u001b[49m\u001b[43mcircuits\u001b[49m\u001b[38;5;241;43m=\u001b[39;49m\u001b[38;5;28;43mlist\u001b[39;49m\u001b[43m(\u001b[49m\u001b[43mcircuits\u001b[49m\u001b[43m)\u001b[49m\u001b[43m,\u001b[49m\n\u001b[1;32m    405\u001b[0m \u001b[43m        \u001b[49m\u001b[43moptimisation_level\u001b[49m\u001b[38;5;241;43m=\u001b[39;49m\u001b[43moptimisation_level\u001b[49m\u001b[43m,\u001b[49m\n\u001b[1;32m    406\u001b[0m \u001b[43m        \u001b[49m\u001b[43mnotes\u001b[49m\u001b[38;5;241;43m=\u001b[39;49m\u001b[43mnotes\u001b[49m\u001b[43m,\u001b[49m\n\u001b[1;32m    407\u001b[0m \u001b[43m    \u001b[49m\u001b[43m)\u001b[49m\n\u001b[1;32m    409\u001b[0m     compile_job_status \u001b[38;5;241m=\u001b[39m compile_job\u001b[38;5;241m.\u001b[39mwait_for(timeout\u001b[38;5;241m=\u001b[39mtimeout)\n",
      "File \u001b[0;32m/opt/conda/lib/python3.10/site-packages/pytket/extensions/nexus/pytket_nexus_types/nexus_project.py:771\u001b[0m, in \u001b[0;36mNexusProject.submit_compile_job\u001b[0;34m(self, backend_config, circuits, name, optimisation_level, notes, description)\u001b[0m\n\u001b[1;32m    769\u001b[0m circuit_ids \u001b[38;5;241m=\u001b[39m \u001b[38;5;28mself\u001b[39m\u001b[38;5;241m.\u001b[39m_circuits_to_circuit_ids(circuits)\n\u001b[0;32m--> 771\u001b[0m compile_job_id \u001b[38;5;241m=\u001b[39m \u001b[38;5;28;43mself\u001b[39;49m\u001b[38;5;241;43m.\u001b[39;49m\u001b[43mclient\u001b[49m\u001b[38;5;241;43m.\u001b[39;49m\u001b[43msubmit_compile_job\u001b[49m\u001b[43m(\u001b[49m\n\u001b[1;32m    772\u001b[0m \u001b[43m    \u001b[49m\u001b[43mSubmitCompileJobRequest\u001b[49m\u001b[43m(\u001b[49m\n\u001b[1;32m    773\u001b[0m \u001b[43m        \u001b[49m\u001b[43mbackend\u001b[49m\u001b[38;5;241;43m=\u001b[39;49m\u001b[43mbackend_config\u001b[49m\u001b[43m,\u001b[49m\n\u001b[1;32m    774\u001b[0m \u001b[43m        \u001b[49m\u001b[43mexperiment_id\u001b[49m\u001b[38;5;241;43m=\u001b[39;49m\u001b[38;5;28;43mself\u001b[39;49m\u001b[38;5;241;43m.\u001b[39;49m\u001b[43mid\u001b[49m\u001b[43m,\u001b[49m\n\u001b[1;32m    775\u001b[0m \u001b[43m        \u001b[49m\u001b[43mname\u001b[49m\u001b[38;5;241;43m=\u001b[39;49m\u001b[43mname\u001b[49m\u001b[43m,\u001b[49m\n\u001b[1;32m    776\u001b[0m \u001b[43m        \u001b[49m\u001b[43mcircuit_ids\u001b[49m\u001b[38;5;241;43m=\u001b[39;49m\u001b[43mcircuit_ids\u001b[49m\u001b[43m,\u001b[49m\n\u001b[1;32m    777\u001b[0m \u001b[43m        \u001b[49m\u001b[43moptimisation_level\u001b[49m\u001b[38;5;241;43m=\u001b[39;49m\u001b[43moptimisation_level\u001b[49m\u001b[43m,\u001b[49m\n\u001b[1;32m    778\u001b[0m \u001b[43m        \u001b[49m\u001b[43mnotes\u001b[49m\u001b[38;5;241;43m=\u001b[39;49m\u001b[43mnotes\u001b[49m\u001b[43m,\u001b[49m\n\u001b[1;32m    779\u001b[0m \u001b[43m        \u001b[49m\u001b[43mdescription\u001b[49m\u001b[38;5;241;43m=\u001b[39;49m\u001b[43mdescription\u001b[49m\u001b[43m,\u001b[49m\n\u001b[1;32m    780\u001b[0m \u001b[43m    \u001b[49m\u001b[43m)\u001b[49m\n\u001b[1;32m    781\u001b[0m \u001b[43m\u001b[49m\u001b[43m)\u001b[49m\n\u001b[1;32m    782\u001b[0m \u001b[38;5;28;01mreturn\u001b[39;00m \u001b[38;5;28mself\u001b[39m\u001b[38;5;241m.\u001b[39mget_compile_job(job_id\u001b[38;5;241m=\u001b[39mcompile_job_id)\n",
      "File \u001b[0;32m/opt/conda/lib/python3.10/site-packages/pytket/extensions/nexus/client/jobs.py:277\u001b[0m, in \u001b[0;36mJobsMixin.submit_compile_job\u001b[0;34m(self, compile_job_request)\u001b[0m\n\u001b[1;32m    276\u001b[0m \u001b[38;5;28;01mif\u001b[39;00m resp\u001b[38;5;241m.\u001b[39mstatus_code \u001b[38;5;241m!=\u001b[39m \u001b[38;5;241m202\u001b[39m:\n\u001b[0;32m--> 277\u001b[0m     \u001b[38;5;28;01mraise\u001b[39;00m ResourceCreationFailed(\n\u001b[1;32m    278\u001b[0m         message\u001b[38;5;241m=\u001b[39mresp\u001b[38;5;241m.\u001b[39mtext, status_code\u001b[38;5;241m=\u001b[39mresp\u001b[38;5;241m.\u001b[39mstatus_code\n\u001b[1;32m    279\u001b[0m     )\n\u001b[1;32m    280\u001b[0m \u001b[38;5;28;01mreturn\u001b[39;00m JobID(resp\u001b[38;5;241m.\u001b[39mjson()[\u001b[38;5;124m\"\u001b[39m\u001b[38;5;124mjob_id\u001b[39m\u001b[38;5;124m\"\u001b[39m])\n",
      "\u001b[0;31mResourceCreationFailed\u001b[0m: Failed to create resource with status code: 409, message: {\"message\":\"Conflict - Resource Already Exists\"}",
      "\nThe above exception was the direct cause of the following exception:\n",
      "\u001b[0;31mResourceCreationFailed\u001b[0m                    Traceback (most recent call last)",
      "Cell \u001b[0;32mIn[26], line 7\u001b[0m\n\u001b[1;32m      4\u001b[0m circuit\u001b[38;5;241m.\u001b[39mname \u001b[38;5;241m=\u001b[39m \u001b[38;5;124m\"\u001b[39m\u001b[38;5;124mmy-first-circuit\u001b[39m\u001b[38;5;124m\"\u001b[39m\n\u001b[1;32m      6\u001b[0m \u001b[38;5;66;03m# Compile the circuit in Nexus\u001b[39;00m\n\u001b[0;32m----> 7\u001b[0m compiled_circuit \u001b[38;5;241m=\u001b[39m \u001b[43mbackend\u001b[49m\u001b[38;5;241;43m.\u001b[39;49m\u001b[43mget_compiled_circuit\u001b[49m\u001b[43m(\u001b[49m\u001b[43mcircuit\u001b[49m\u001b[43m)\u001b[49m\n\u001b[1;32m      9\u001b[0m \u001b[38;5;66;03m# Run the compiled circuit\u001b[39;00m\n\u001b[1;32m     10\u001b[0m handle \u001b[38;5;241m=\u001b[39m backend\u001b[38;5;241m.\u001b[39mprocess_circuit(compiled_circuit, n_shots\u001b[38;5;241m=\u001b[39m\u001b[38;5;241m10\u001b[39m)\n",
      "File \u001b[0;32m/opt/conda/lib/python3.10/site-packages/pytket/extensions/nexus/backends.py:300\u001b[0m, in \u001b[0;36mNexusBackend.get_compiled_circuit\u001b[0;34m(self, circuit, optimisation_level, notes, remote, timeout)\u001b[0m\n\u001b[1;32m    270\u001b[0m \u001b[38;5;28;01mdef\u001b[39;00m \u001b[38;5;21mget_compiled_circuit\u001b[39m(\n\u001b[1;32m    271\u001b[0m     \u001b[38;5;28mself\u001b[39m,\n\u001b[1;32m    272\u001b[0m     circuit: Circuit,\n\u001b[0;32m   (...)\u001b[0m\n\u001b[1;32m    276\u001b[0m     timeout: Optional[\u001b[38;5;28mfloat\u001b[39m] \u001b[38;5;241m=\u001b[39m \u001b[38;5;241m300\u001b[39m,\n\u001b[1;32m    277\u001b[0m ) \u001b[38;5;241m-\u001b[39m\u001b[38;5;241m>\u001b[39m Circuit:\n\u001b[1;32m    278\u001b[0m \u001b[38;5;250m    \u001b[39m\u001b[38;5;124;03m\"\"\"Return a single circuit compiled with default_compilation_pass (does not\u001b[39;00m\n\u001b[1;32m    279\u001b[0m \u001b[38;5;124;03m    act in place). See :py:meth:`Backend.get_compiled_circuits`.\u001b[39;00m\n\u001b[1;32m    280\u001b[0m \n\u001b[0;32m   (...)\u001b[0m\n\u001b[1;32m    298\u001b[0m \u001b[38;5;124;03m    :return: returns the compiled circuit\u001b[39;00m\n\u001b[1;32m    299\u001b[0m \u001b[38;5;124;03m    \"\"\"\u001b[39;00m\n\u001b[0;32m--> 300\u001b[0m     circuit_list \u001b[38;5;241m=\u001b[39m \u001b[38;5;28;43mself\u001b[39;49m\u001b[38;5;241;43m.\u001b[39;49m\u001b[43mget_compiled_circuits\u001b[49m\u001b[43m(\u001b[49m\n\u001b[1;32m    301\u001b[0m \u001b[43m        \u001b[49m\u001b[43m[\u001b[49m\u001b[43mcircuit\u001b[49m\u001b[43m]\u001b[49m\u001b[43m,\u001b[49m\n\u001b[1;32m    302\u001b[0m \u001b[43m        \u001b[49m\u001b[43moptimisation_level\u001b[49m\u001b[43m,\u001b[49m\n\u001b[1;32m    303\u001b[0m \u001b[43m        \u001b[49m\u001b[43mnotes\u001b[49m\u001b[43m,\u001b[49m\n\u001b[1;32m    304\u001b[0m \u001b[43m        \u001b[49m\u001b[43mremote\u001b[49m\u001b[43m,\u001b[49m\n\u001b[1;32m    305\u001b[0m \u001b[43m        \u001b[49m\u001b[43mtimeout\u001b[49m\u001b[43m,\u001b[49m\n\u001b[1;32m    306\u001b[0m \u001b[43m    \u001b[49m\u001b[43m)\u001b[49m\n\u001b[1;32m    307\u001b[0m     \u001b[38;5;28;01mreturn\u001b[39;00m circuit_list[\u001b[38;5;241m0\u001b[39m]\n",
      "File \u001b[0;32m/opt/conda/lib/python3.10/site-packages/pytket/extensions/nexus/backends.py:381\u001b[0m, in \u001b[0;36mNexusBackend.get_compiled_circuits\u001b[0;34m(self, circuits, optimisation_level, notes, remote, timeout)\u001b[0m\n\u001b[1;32m    378\u001b[0m     handler\u001b[38;5;241m.\u001b[39msubmit_compilation()\n\u001b[1;32m    380\u001b[0m \u001b[38;5;28;01melse\u001b[39;00m:\n\u001b[0;32m--> 381\u001b[0m     circuits_to_return \u001b[38;5;241m=\u001b[39m \u001b[38;5;28;43mself\u001b[39;49m\u001b[38;5;241;43m.\u001b[39;49m\u001b[43m_compile_circuits_remotely\u001b[49m\u001b[43m(\u001b[49m\n\u001b[1;32m    382\u001b[0m \u001b[43m        \u001b[49m\u001b[43mcircuits\u001b[49m\u001b[43m,\u001b[49m\u001b[43m \u001b[49m\u001b[43moptimisation_level\u001b[49m\u001b[43m,\u001b[49m\u001b[43m \u001b[49m\u001b[43mnotes\u001b[49m\u001b[43m,\u001b[49m\u001b[43m \u001b[49m\u001b[43mtimeout\u001b[49m\n\u001b[1;32m    383\u001b[0m \u001b[43m    \u001b[49m\u001b[43m)\u001b[49m\n\u001b[1;32m    385\u001b[0m \u001b[38;5;28;01mreturn\u001b[39;00m circuits_to_return\n",
      "File \u001b[0;32m/opt/conda/lib/python3.10/site-packages/pytket/extensions/nexus/backends.py:433\u001b[0m, in \u001b[0;36mNexusBackend._compile_circuits_remotely\u001b[0;34m(self, circuits, optimisation_level, notes, timeout)\u001b[0m\n\u001b[1;32m    431\u001b[0m             \u001b[38;5;28;01mraise\u001b[39;00m exc\n\u001b[1;32m    432\u001b[0m         \u001b[38;5;28;01mif\u001b[39;00m _retry \u001b[38;5;241m==\u001b[39m AUTOGEN_NAME_RETRIES \u001b[38;5;241m-\u001b[39m \u001b[38;5;241m1\u001b[39m:\n\u001b[0;32m--> 433\u001b[0m             \u001b[38;5;28;01mraise\u001b[39;00m ResourceCreationFailed(\n\u001b[1;32m    434\u001b[0m                 message\u001b[38;5;241m=\u001b[39m(\n\u001b[1;32m    435\u001b[0m                     \u001b[38;5;124m\"\u001b[39m\u001b[38;5;124mFailed to autogenerate a job name \u001b[39m\u001b[38;5;132;01m{AUTOGEN_NAME_RETRIES}\u001b[39;00m\u001b[38;5;124m times. \u001b[39m\u001b[38;5;124m\"\u001b[39m\n\u001b[1;32m    436\u001b[0m                     \u001b[38;5;124m\"\u001b[39m\u001b[38;5;124mPlease try the operation again.\u001b[39m\u001b[38;5;124m\"\u001b[39m\n\u001b[1;32m    437\u001b[0m                 ),\n\u001b[1;32m    438\u001b[0m                 status_code\u001b[38;5;241m=\u001b[39mexc\u001b[38;5;241m.\u001b[39mstatus_code,\n\u001b[1;32m    439\u001b[0m             ) \u001b[38;5;28;01mfrom\u001b[39;00m \u001b[38;5;21;01mexc\u001b[39;00m\n\u001b[1;32m    441\u001b[0m \u001b[38;5;28;01mreturn\u001b[39;00m circuits_to_return\n",
      "\u001b[0;31mResourceCreationFailed\u001b[0m: Failed to create resource with status code: 409, message: Failed to autogenerate a job name {AUTOGEN_NAME_RETRIES} times. Please try the operation again."
     ]
    }
   ],
   "source": [
    "# Give the circuit a name to enable tracking\n",
    "\n",
    "backend = NexusBackend(configuration, project=new_project)\n",
    "circuit.name = \"my-first-circuit\"\n",
    "\n",
    "# Compile the circuit in Nexus\n",
    "compiled_circuit = backend.get_compiled_circuit(circuit)\n",
    "\n",
    "# Run the compiled circuit\n",
    "handle = backend.process_circuit(compiled_circuit, n_shots=10)"
   ]
  },
  {
   "cell_type": "code",
   "execution_count": null,
   "id": "628b643a-2a3a-4793-9242-85ff6b2af950",
   "metadata": {},
   "outputs": [],
   "source": [
    "# This will give you a Nexus result handle\n",
    "# As with other pytket-backends, a result handle identifies a particular run of the circuit, which you can then use to keep track of the job status.\n",
    "print(handle)\n",
    "# Get an update on the status\n",
    "backend.circuit_status(handle)\n",
    "# If ready we can then retrieve the result with the handle\n",
    "backend.get_result(handle)"
   ]
  }
 ],
 "metadata": {
  "kernelspec": {
   "display_name": "Python [conda env:base] *",
   "language": "python",
   "name": "conda-base-py"
  },
  "language_info": {
   "codemirror_mode": {
    "name": "ipython",
    "version": 3
   },
   "file_extension": ".py",
   "mimetype": "text/x-python",
   "name": "python",
   "nbconvert_exporter": "python",
   "pygments_lexer": "ipython3",
   "version": "3.10.11"
  }
 },
 "nbformat": 4,
 "nbformat_minor": 5
}
