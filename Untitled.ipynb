{
 "cells": [
  {
   "cell_type": "code",
   "execution_count": 1,
   "id": "6f3e599c-561b-4eb5-b731-3efc905cdd62",
   "metadata": {},
   "outputs": [],
   "source": [
    "from pytket.extensions.nexus import Nexus, NexusBackend"
   ]
  },
  {
   "cell_type": "code",
   "execution_count": 2,
   "id": "c4d5265c-f150-4771-9dcc-bfc05f33320c",
   "metadata": {},
   "outputs": [
    {
     "data": {
      "text/plain": [
       "[nexus_dataclasses.backend_config.QuantinuumConfig,\n",
       " nexus_dataclasses.backend_config.IBMQConfig,\n",
       " nexus_dataclasses.backend_config.IBMQEmulatorConfig,\n",
       " nexus_dataclasses.backend_config.AerConfig,\n",
       " nexus_dataclasses.backend_config.AerStateConfig,\n",
       " nexus_dataclasses.backend_config.AerUnitaryConfig,\n",
       " nexus_dataclasses.backend_config.BraketConfig,\n",
       " nexus_dataclasses.backend_config.QulacsConfig,\n",
       " nexus_dataclasses.backend_config.ProjectQConfig]"
      ]
     },
     "execution_count": 2,
     "metadata": {},
     "output_type": "execute_result"
    }
   ],
   "source": [
    "NexusBackend.supported_configs()"
   ]
  },
  {
   "cell_type": "code",
   "execution_count": 3,
   "id": "708b7b81-cbb5-4efd-8473-73c141546272",
   "metadata": {},
   "outputs": [],
   "source": [
    "# Lets say we want to run a quantum circuit on Nexus using Qiskit's Aer simulator, lets import the AerConfig\n",
    "from pytket.extensions.nexus import AerConfig\n",
    "\n",
    "# Next we'll create the config object, specifying the details of our desired backend\n",
    "# The details of each backend can be found in the matching examples notebook, or at nexus.quantinuum.com/docs/nexus_dataclasses/backend_configs.html\n",
    "configuration = AerConfig()"
   ]
  },
  {
   "cell_type": "code",
   "execution_count": 5,
   "id": "7614af46-643e-4211-af87-1c6654ad5862",
   "metadata": {},
   "outputs": [
    {
     "name": "stdout",
     "output_type": "stream",
     "text": [
      "\n",
      "New project created: My first project! 2\n",
      "\n",
      "Started using project with name: My first project! 2\n"
     ]
    }
   ],
   "source": [
    "# We'll create a new project to work under. In Nexus a project is a bucket\n",
    "# for useful information, everything else we do in this session will be stored under this name.\n",
    "nexus = Nexus()\n",
    "my_project = nexus.new_project(name=\"My first project! 2\")\n",
    "\n",
    "# Then we'll create a NexusBackend using our config and our retrieved project\n",
    "backend = NexusBackend(configuration, project=my_project)"
   ]
  },
  {
   "cell_type": "code",
   "execution_count": 6,
   "id": "f6d693bf-0029-49c1-ad75-82a38704d59d",
   "metadata": {},
   "outputs": [
    {
     "data": {
      "text/plain": [
       "[H q[0]; CX q[0], q[1]; Measure q[0] --> c[0]; Measure q[1] --> c[1]; ]"
      ]
     },
     "execution_count": 6,
     "metadata": {},
     "output_type": "execute_result"
    }
   ],
   "source": [
    "from pytket import Circuit\n",
    "\n",
    "circuit = Circuit(2).H(0).CX(0, 1)\n",
    "circuit.measure_all()"
   ]
  },
  {
   "cell_type": "code",
   "execution_count": 7,
   "id": "dd7a03df-3f21-44f6-bebf-e01eb6bf59ed",
   "metadata": {},
   "outputs": [],
   "source": [
    "# Give the circuit a name to enable tracking\n",
    "circuit.name = \"my-first-circuit\"\n",
    "\n",
    "# Compile the circuit in Nexus\n",
    "compiled_circuit = backend.get_compiled_circuit(circuit)"
   ]
  },
  {
   "cell_type": "code",
   "execution_count": 8,
   "id": "ee4ae446-9fce-42bf-abb3-386ccd9c3925",
   "metadata": {},
   "outputs": [],
   "source": [
    "# Give the circuit a name to enable tracking of processed job\n",
    "compiled_circuit.name = \"my-first-compiled-circuit\"\n",
    "\n",
    "# Run the compiled circuit\n",
    "handle = backend.process_circuit(compiled_circuit, n_shots=10)"
   ]
  },
  {
   "cell_type": "code",
   "execution_count": 9,
   "id": "d0381b98-5344-4113-a120-487435171452",
   "metadata": {},
   "outputs": [
    {
     "name": "stdout",
     "output_type": "stream",
     "text": [
      "('527a62cb-23be-418d-83ae-164a9884124e', 2887602)\n"
     ]
    },
    {
     "data": {
      "text/plain": [
       "NexusResult(q_bits={}, c_bits={c[0]: 0, c[1]: 1}, counts=None, shots=[[192]\n",
       " [192]\n",
       " [  0]\n",
       " [192]\n",
       " [192]\n",
       " [192]\n",
       " [192]\n",
       " [  0]\n",
       " [192]\n",
       " [192]], state=None, unitary=None, density_matrix=None, project_name=My first project! 2, project_id=0539233e-2531-4cd6-916a-4744cf4c31f5, backend_name=pytket.extensions.qiskit.backends.aer.AerBackend)"
      ]
     },
     "execution_count": 9,
     "metadata": {},
     "output_type": "execute_result"
    }
   ],
   "source": [
    "# This will give you a Nexus result handle\n",
    "# As with other pytket-backends, a result handle identifies a particular run of the circuit, which you can then use to keep track of the job status.\n",
    "print(handle)\n",
    "# Get an update on the status\n",
    "backend.circuit_status(handle)\n",
    "# If ready we can then retrieve the result with the handle\n",
    "backend.get_result(handle)"
   ]
  },
  {
   "cell_type": "code",
   "execution_count": 10,
   "id": "9c3fc807-e552-4469-8b71-d343debe2f93",
   "metadata": {},
   "outputs": [
    {
     "name": "stdout",
     "output_type": "stream",
     "text": [
      "[NexusResult(q_bits={}, c_bits={c[0]: 0, c[1]: 1}, counts=None, shots=[[192]\n",
      " [192]\n",
      " [  0]\n",
      " [192]\n",
      " [192]\n",
      " [192]\n",
      " [192]\n",
      " [  0]\n",
      " [192]\n",
      " [192]], state=None, unitary=None, density_matrix=None, project_name=My first project! 2, project_id=0539233e-2531-4cd6-916a-4744cf4c31f5, backend_name=pytket.extensions.qiskit.backends.aer.AerBackend)]\n"
     ]
    }
   ],
   "source": [
    "execute_jobs = my_project.get_execute_jobs()\n",
    "for job in execute_jobs:\n",
    "    print(job.get_results())"
   ]
  },
  {
   "cell_type": "code",
   "execution_count": null,
   "id": "bb4d9ad2-a3e2-4648-bbf5-bd7b79bece56",
   "metadata": {},
   "outputs": [],
   "source": []
  }
 ],
 "metadata": {
  "kernelspec": {
   "display_name": "Python [conda env:base] *",
   "language": "python",
   "name": "conda-base-py"
  },
  "language_info": {
   "codemirror_mode": {
    "name": "ipython",
    "version": 3
   },
   "file_extension": ".py",
   "mimetype": "text/x-python",
   "name": "python",
   "nbconvert_exporter": "python",
   "pygments_lexer": "ipython3",
   "version": "3.10.11"
  }
 },
 "nbformat": 4,
 "nbformat_minor": 5
}
